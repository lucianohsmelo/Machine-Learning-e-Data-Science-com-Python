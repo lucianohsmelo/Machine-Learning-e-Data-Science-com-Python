{
 "cells": [
  {
   "cell_type": "code",
   "execution_count": 1,
   "metadata": {
    "collapsed": true
   },
   "outputs": [],
   "source": [
    "import pandas as pd\n",
    "import pydataset"
   ]
  },
  {
   "cell_type": "code",
   "execution_count": 3,
   "metadata": {
    "scrolled": true
   },
   "outputs": [],
   "source": [
    "titanic = pydataset.data('titanic')"
   ]
  },
  {
   "cell_type": "code",
   "execution_count": 4,
   "metadata": {},
   "outputs": [
    {
     "data": {
      "text/plain": [
       "Index(['class', 'age', 'sex', 'survived'], dtype='object')"
      ]
     },
     "execution_count": 4,
     "metadata": {},
     "output_type": "execute_result"
    }
   ],
   "source": [
    "titanic.columns"
   ]
  },
  {
   "cell_type": "code",
   "execution_count": 5,
   "metadata": {},
   "outputs": [
    {
     "data": {
      "text/plain": [
       "count          1316\n",
       "unique            3\n",
       "top       3rd class\n",
       "freq            706\n",
       "Name: class, dtype: object"
      ]
     },
     "execution_count": 5,
     "metadata": {},
     "output_type": "execute_result"
    }
   ],
   "source": [
    "titanic['class'].describe()"
   ]
  },
  {
   "cell_type": "code",
   "execution_count": 7,
   "metadata": {},
   "outputs": [
    {
     "data": {
      "text/plain": [
       "5264"
      ]
     },
     "execution_count": 7,
     "metadata": {},
     "output_type": "execute_result"
    }
   ],
   "source": [
    "titanic['class'].nbytes"
   ]
  },
  {
   "cell_type": "code",
   "execution_count": 9,
   "metadata": {},
   "outputs": [
    {
     "name": "stdout",
     "output_type": "stream",
     "text": [
      "Wall time: 18 ms\n"
     ]
    },
    {
     "data": {
      "text/plain": [
       "1       False\n",
       "2       False\n",
       "3       False\n",
       "4       False\n",
       "5       False\n",
       "6       False\n",
       "7       False\n",
       "8       False\n",
       "9       False\n",
       "10      False\n",
       "11      False\n",
       "12      False\n",
       "13      False\n",
       "14      False\n",
       "15      False\n",
       "16      False\n",
       "17      False\n",
       "18      False\n",
       "19      False\n",
       "20      False\n",
       "21      False\n",
       "22      False\n",
       "23      False\n",
       "24      False\n",
       "25      False\n",
       "26      False\n",
       "27      False\n",
       "28      False\n",
       "29      False\n",
       "30      False\n",
       "31      False\n",
       "32      False\n",
       "33      False\n",
       "34      False\n",
       "35      False\n",
       "36      False\n",
       "37      False\n",
       "38      False\n",
       "39      False\n",
       "40      False\n",
       "41      False\n",
       "42      False\n",
       "43      False\n",
       "44      False\n",
       "45      False\n",
       "46      False\n",
       "47      False\n",
       "48      False\n",
       "49      False\n",
       "50      False\n",
       "51      False\n",
       "52      False\n",
       "53      False\n",
       "54      False\n",
       "55      False\n",
       "56      False\n",
       "57      False\n",
       "58      False\n",
       "59      False\n",
       "60      False\n",
       "61      False\n",
       "62      False\n",
       "63      False\n",
       "64      False\n",
       "65      False\n",
       "66      False\n",
       "67      False\n",
       "68      False\n",
       "69      False\n",
       "70      False\n",
       "71      False\n",
       "72      False\n",
       "73      False\n",
       "74      False\n",
       "75      False\n",
       "76      False\n",
       "77      False\n",
       "78      False\n",
       "79      False\n",
       "80      False\n",
       "81      False\n",
       "82      False\n",
       "83      False\n",
       "84      False\n",
       "85      False\n",
       "        ...  \n",
       "1232    False\n",
       "1233    False\n",
       "1234    False\n",
       "1235    False\n",
       "1236    False\n",
       "1237    False\n",
       "1238    False\n",
       "1239    False\n",
       "1240    False\n",
       "1241    False\n",
       "1242    False\n",
       "1243    False\n",
       "1244    False\n",
       "1245    False\n",
       "1246    False\n",
       "1247    False\n",
       "1248    False\n",
       "1249    False\n",
       "1250    False\n",
       "1251    False\n",
       "1252    False\n",
       "1253    False\n",
       "1254    False\n",
       "1255    False\n",
       "1256    False\n",
       "1257    False\n",
       "1258    False\n",
       "1259    False\n",
       "1260    False\n",
       "1261    False\n",
       "1262    False\n",
       "1263    False\n",
       "1264    False\n",
       "1265    False\n",
       "1266    False\n",
       "1267    False\n",
       "1268    False\n",
       "1269    False\n",
       "1270    False\n",
       "1271    False\n",
       "1272    False\n",
       "1273    False\n",
       "1274    False\n",
       "1275    False\n",
       "1276    False\n",
       "1277    False\n",
       "1278    False\n",
       "1279    False\n",
       "1280    False\n",
       "1281    False\n",
       "1282    False\n",
       "1283    False\n",
       "1284    False\n",
       "1285    False\n",
       "1286    False\n",
       "1287    False\n",
       "1288    False\n",
       "1289    False\n",
       "1290    False\n",
       "1291    False\n",
       "1292    False\n",
       "1293    False\n",
       "1294    False\n",
       "1295    False\n",
       "1296    False\n",
       "1297    False\n",
       "1298    False\n",
       "1299    False\n",
       "1300    False\n",
       "1301    False\n",
       "1302    False\n",
       "1303    False\n",
       "1304    False\n",
       "1305    False\n",
       "1306    False\n",
       "1307    False\n",
       "1308    False\n",
       "1309    False\n",
       "1310    False\n",
       "1311    False\n",
       "1312    False\n",
       "1313    False\n",
       "1314    False\n",
       "1315    False\n",
       "1316    False\n",
       "Name: class, Length: 1316, dtype: bool"
      ]
     },
     "execution_count": 9,
     "metadata": {},
     "output_type": "execute_result"
    }
   ],
   "source": [
    "%%time\n",
    "titanic['class'] == '3rd calass'"
   ]
  },
  {
   "cell_type": "code",
   "execution_count": 12,
   "metadata": {
    "collapsed": true
   },
   "outputs": [],
   "source": [
    "titanic['class'] = titanic['class'].astype('category')"
   ]
  },
  {
   "cell_type": "code",
   "execution_count": 14,
   "metadata": {},
   "outputs": [
    {
     "data": {
      "text/plain": [
       "count          1316\n",
       "unique            3\n",
       "top       3rd class\n",
       "freq            706\n",
       "Name: class, dtype: object"
      ]
     },
     "execution_count": 14,
     "metadata": {},
     "output_type": "execute_result"
    }
   ],
   "source": [
    "titanic['class'].describe()"
   ]
  },
  {
   "cell_type": "code",
   "execution_count": 15,
   "metadata": {},
   "outputs": [
    {
     "data": {
      "text/plain": [
       "1328"
      ]
     },
     "execution_count": 15,
     "metadata": {},
     "output_type": "execute_result"
    }
   ],
   "source": [
    "titanic['class'].nbytes"
   ]
  },
  {
   "cell_type": "code",
   "execution_count": 24,
   "metadata": {},
   "outputs": [
    {
     "name": "stdout",
     "output_type": "stream",
     "text": [
      "Wall time: 1 ms\n"
     ]
    },
    {
     "data": {
      "text/plain": [
       "1       False\n",
       "2       False\n",
       "3       False\n",
       "4       False\n",
       "5       False\n",
       "6       False\n",
       "7       False\n",
       "8       False\n",
       "9       False\n",
       "10      False\n",
       "11      False\n",
       "12      False\n",
       "13      False\n",
       "14      False\n",
       "15      False\n",
       "16      False\n",
       "17      False\n",
       "18      False\n",
       "19      False\n",
       "20      False\n",
       "21      False\n",
       "22      False\n",
       "23      False\n",
       "24      False\n",
       "25      False\n",
       "26      False\n",
       "27      False\n",
       "28      False\n",
       "29      False\n",
       "30      False\n",
       "31      False\n",
       "32      False\n",
       "33      False\n",
       "34      False\n",
       "35      False\n",
       "36      False\n",
       "37      False\n",
       "38      False\n",
       "39      False\n",
       "40      False\n",
       "41      False\n",
       "42      False\n",
       "43      False\n",
       "44      False\n",
       "45      False\n",
       "46      False\n",
       "47      False\n",
       "48      False\n",
       "49      False\n",
       "50      False\n",
       "51      False\n",
       "52      False\n",
       "53      False\n",
       "54      False\n",
       "55      False\n",
       "56      False\n",
       "57      False\n",
       "58      False\n",
       "59      False\n",
       "60      False\n",
       "61      False\n",
       "62      False\n",
       "63      False\n",
       "64      False\n",
       "65      False\n",
       "66      False\n",
       "67      False\n",
       "68      False\n",
       "69      False\n",
       "70      False\n",
       "71      False\n",
       "72      False\n",
       "73      False\n",
       "74      False\n",
       "75      False\n",
       "76      False\n",
       "77      False\n",
       "78      False\n",
       "79      False\n",
       "80      False\n",
       "81      False\n",
       "82      False\n",
       "83      False\n",
       "84      False\n",
       "85      False\n",
       "        ...  \n",
       "1232    False\n",
       "1233    False\n",
       "1234    False\n",
       "1235    False\n",
       "1236    False\n",
       "1237    False\n",
       "1238    False\n",
       "1239    False\n",
       "1240    False\n",
       "1241    False\n",
       "1242    False\n",
       "1243    False\n",
       "1244    False\n",
       "1245    False\n",
       "1246    False\n",
       "1247    False\n",
       "1248    False\n",
       "1249    False\n",
       "1250    False\n",
       "1251    False\n",
       "1252    False\n",
       "1253    False\n",
       "1254    False\n",
       "1255    False\n",
       "1256    False\n",
       "1257    False\n",
       "1258    False\n",
       "1259    False\n",
       "1260    False\n",
       "1261    False\n",
       "1262    False\n",
       "1263    False\n",
       "1264    False\n",
       "1265    False\n",
       "1266    False\n",
       "1267    False\n",
       "1268    False\n",
       "1269    False\n",
       "1270    False\n",
       "1271    False\n",
       "1272    False\n",
       "1273    False\n",
       "1274    False\n",
       "1275    False\n",
       "1276    False\n",
       "1277    False\n",
       "1278    False\n",
       "1279    False\n",
       "1280    False\n",
       "1281    False\n",
       "1282    False\n",
       "1283    False\n",
       "1284    False\n",
       "1285    False\n",
       "1286    False\n",
       "1287    False\n",
       "1288    False\n",
       "1289    False\n",
       "1290    False\n",
       "1291    False\n",
       "1292    False\n",
       "1293    False\n",
       "1294    False\n",
       "1295    False\n",
       "1296    False\n",
       "1297    False\n",
       "1298    False\n",
       "1299    False\n",
       "1300    False\n",
       "1301    False\n",
       "1302    False\n",
       "1303    False\n",
       "1304    False\n",
       "1305    False\n",
       "1306    False\n",
       "1307    False\n",
       "1308    False\n",
       "1309    False\n",
       "1310    False\n",
       "1311    False\n",
       "1312    False\n",
       "1313    False\n",
       "1314    False\n",
       "1315    False\n",
       "1316    False\n",
       "Name: class, Length: 1316, dtype: bool"
      ]
     },
     "execution_count": 24,
     "metadata": {},
     "output_type": "execute_result"
    }
   ],
   "source": [
    "%%time\n",
    "titanic['class'] == '3rd calass'"
   ]
  },
  {
   "cell_type": "code",
   "execution_count": null,
   "metadata": {
    "collapsed": true
   },
   "outputs": [],
   "source": []
  }
 ],
 "metadata": {
  "kernelspec": {
   "display_name": "Python 3",
   "language": "python",
   "name": "python3"
  },
  "language_info": {
   "codemirror_mode": {
    "name": "ipython",
    "version": 3
   },
   "file_extension": ".py",
   "mimetype": "text/x-python",
   "name": "python",
   "nbconvert_exporter": "python",
   "pygments_lexer": "ipython3",
   "version": "3.6.1"
  }
 },
 "nbformat": 4,
 "nbformat_minor": 2
}
