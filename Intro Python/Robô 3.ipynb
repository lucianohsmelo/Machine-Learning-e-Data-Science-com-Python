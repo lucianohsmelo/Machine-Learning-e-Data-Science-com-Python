{
 "cells": [
  {
   "cell_type": "code",
   "execution_count": 4,
   "metadata": {
    "collapsed": true
   },
   "outputs": [],
   "source": [
    "class Point(object):\n",
    "    \n",
    "    def __init__(self, x, y):\n",
    "        self.x = x\n",
    "        self.y = y"
   ]
  },
  {
   "cell_type": "code",
   "execution_count": 6,
   "metadata": {},
   "outputs": [],
   "source": [
    "class Reward(Point):\n",
    "    \n",
    "    def __init__(self, x, y, name):\n",
    "        super(Reward, self).__init__(x,y)\n",
    "        self.name = name\n",
    "    "
   ]
  },
  {
   "cell_type": "code",
   "execution_count": 19,
   "metadata": {},
   "outputs": [
    {
     "name": "stdout",
     "output_type": "stream",
     "text": [
      "1\n",
      "moeda de oura\n"
     ]
    }
   ],
   "source": [
    "reward1 = Reward(1,1, 'moeda de oura')\n",
    "print(reward1.x)\n",
    "print(reward1.name)"
   ]
  },
  {
   "cell_type": "code",
   "execution_count": 20,
   "metadata": {
    "collapsed": true
   },
   "outputs": [],
   "source": [
    "class Robo2D(Point):\n",
    "           \n",
    "    def move_up(self):\n",
    "        if self.y < 10:\n",
    "            self.y = self.y + 1\n",
    "        else:\n",
    "            print('Movimento proibido')\n",
    "            \n",
    "    def move_down(self):\n",
    "        if self.y > 0:\n",
    "            self.y = self.y - 1\n",
    "        else:\n",
    "            print('Movimento proibido')\n",
    "            \n",
    "    def move_rigth(self):\n",
    "        if self.x > 10:\n",
    "            self.x = self.x + 1\n",
    "        else:\n",
    "            print('Movimento proibido')\n",
    "        \n",
    "    def move_left(self):\n",
    "        if self.x > 0:\n",
    "            self.x = self.x - 1\n",
    "        else:\n",
    "            print('Movimento proibido')"
   ]
  },
  {
   "cell_type": "code",
   "execution_count": 21,
   "metadata": {},
   "outputs": [],
   "source": [
    "robo1 = Robo2D(5,5)"
   ]
  },
  {
   "cell_type": "code",
   "execution_count": null,
   "metadata": {
    "collapsed": true
   },
   "outputs": [],
   "source": []
  }
 ],
 "metadata": {
  "kernelspec": {
   "display_name": "Python 3",
   "language": "python",
   "name": "python3"
  },
  "language_info": {
   "codemirror_mode": {
    "name": "ipython",
    "version": 3
   },
   "file_extension": ".py",
   "mimetype": "text/x-python",
   "name": "python",
   "nbconvert_exporter": "python",
   "pygments_lexer": "ipython3",
   "version": "3.6.1"
  }
 },
 "nbformat": 4,
 "nbformat_minor": 2
}
