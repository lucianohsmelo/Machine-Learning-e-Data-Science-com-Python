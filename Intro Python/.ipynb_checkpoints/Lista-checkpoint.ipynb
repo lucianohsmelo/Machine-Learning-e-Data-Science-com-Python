{
 "cells": [
  {
   "cell_type": "code",
   "execution_count": 13,
   "metadata": {},
   "outputs": [
    {
     "name": "stdout",
     "output_type": "stream",
     "text": [
      "6\n",
      "[2, 10, 5, 20.3, 'string', [1, 2, 'new_string']]\n",
      "[1, 2, 'new_string']\n",
      "new_string\n",
      "[2, 'LU', 5, 20.3, 'string', [1, 2, 'new_string']]\n"
     ]
    }
   ],
   "source": [
    "lista = [2,10,5,20.3,\"string\",[1,2,\"new_string\"]]\n",
    "print(len(lista))\n",
    "print(lista)\n",
    "print(lista[-1])\n",
    "print(lista[-1][-1])\n",
    "lista[1] = \"LU\"\n",
    "print(lista)"
   ]
  },
  {
   "cell_type": "code",
   "execution_count": 16,
   "metadata": {},
   "outputs": [
    {
     "name": "stdout",
     "output_type": "stream",
     "text": [
      "1 2 3 4 "
     ]
    }
   ],
   "source": [
    "lista = [1,2,3,4]\n",
    "cont = 0\n",
    "while cont < len(lista):\n",
    "    print(lista[cont],end=\" \")\n",
    "    cont +=1"
   ]
  },
  {
   "cell_type": "code",
   "execution_count": 18,
   "metadata": {},
   "outputs": [
    {
     "name": "stdout",
     "output_type": "stream",
     "text": [
      "[1, 2, 3]\n"
     ]
    }
   ],
   "source": [
    "lista = [1,2,3,4,5,6]\n",
    "print(lista[0:3])"
   ]
  },
  {
   "cell_type": "code",
   "execution_count": 20,
   "metadata": {},
   "outputs": [
    {
     "name": "stdout",
     "output_type": "stream",
     "text": [
      "[10, 2, 3, 4, 5]\n"
     ]
    }
   ],
   "source": [
    "lista1 = [1,2,3,4,5]\n",
    "lista2 = lista1\n",
    "lista2[0] = 10\n",
    "print(lista1)"
   ]
  },
  {
   "cell_type": "code",
   "execution_count": 23,
   "metadata": {},
   "outputs": [
    {
     "name": "stdout",
     "output_type": "stream",
     "text": [
      "[1, 2, 3, 4, 5]\n",
      "[10, 2, 3, 4, 5]\n"
     ]
    }
   ],
   "source": [
    "lista1 = [1,2,3,4,5]\n",
    "lista2 = lista1[:] #área diferentes na memória\n",
    "lista2[0] = 10\n",
    "print(lista1)\n",
    "print(lista2)"
   ]
  },
  {
   "cell_type": "code",
   "execution_count": 24,
   "metadata": {},
   "outputs": [
    {
     "name": "stdout",
     "output_type": "stream",
     "text": [
      "[1, 2, 3, 'final']\n"
     ]
    }
   ],
   "source": [
    "lista = [1,2,3]\n",
    "lista.append('final')\n",
    "print(lista)"
   ]
  },
  {
   "cell_type": "code",
   "execution_count": 25,
   "metadata": {},
   "outputs": [
    {
     "name": "stdout",
     "output_type": "stream",
     "text": [
      "[1, 2, 3, 4, 5, 6]\n"
     ]
    }
   ],
   "source": [
    "l1 = [1,2,3]\n",
    "l2 = [4,5,6]\n",
    "l1_l2 = l1 + l2\n",
    "print(l1_l2)"
   ]
  },
  {
   "cell_type": "code",
   "execution_count": 26,
   "metadata": {},
   "outputs": [
    {
     "name": "stdout",
     "output_type": "stream",
     "text": [
      "[2, 3]\n"
     ]
    }
   ],
   "source": [
    "lista = [1,2,3]\n",
    "lista.pop(0)#remove por posição\n",
    "print(lista)"
   ]
  },
  {
   "cell_type": "code",
   "execution_count": 27,
   "metadata": {},
   "outputs": [
    {
     "name": "stdout",
     "output_type": "stream",
     "text": [
      "[1, 3, 4]\n"
     ]
    }
   ],
   "source": [
    "lista = [1,2,3,4]\n",
    "lista.remove(2)\n",
    "print(lista)"
   ]
  }
 ],
 "metadata": {
  "kernelspec": {
   "display_name": "Python 3",
   "language": "python",
   "name": "python3"
  },
  "language_info": {
   "codemirror_mode": {
    "name": "ipython",
    "version": 3
   },
   "file_extension": ".py",
   "mimetype": "text/x-python",
   "name": "python",
   "nbconvert_exporter": "python",
   "pygments_lexer": "ipython3",
   "version": "3.6.1"
  }
 },
 "nbformat": 4,
 "nbformat_minor": 2
}
