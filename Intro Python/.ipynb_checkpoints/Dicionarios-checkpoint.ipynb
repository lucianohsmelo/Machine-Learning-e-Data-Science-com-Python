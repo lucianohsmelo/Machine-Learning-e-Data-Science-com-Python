{
 "cells": [
  {
   "cell_type": "code",
   "execution_count": 14,
   "metadata": {},
   "outputs": [
    {
     "name": "stdout",
     "output_type": "stream",
     "text": [
      "{'Luciano': 28, 'maria': 20, 'pedro': 18}\n",
      "28\n",
      "{'Luciano': 28, 'maria': 25, 'pedro': 18, 'felipe': 30}\n",
      "{'Luciano': 28, 'maria': 25, 'pedro': 18, 'felipe': 30}\n",
      "28\n",
      "25\n",
      "18\n",
      "30\n",
      "dict_items([('Luciano', 28), ('maria', 25), ('pedro', 18), ('felipe', 30)])\n",
      "dict_keys(['Luciano', 'maria', 'pedro', 'felipe'])\n",
      "dict_values([28, 25, 18, 30])\n",
      "True\n",
      "False\n"
     ]
    }
   ],
   "source": [
    "d = {'Luciano':28, 'maria':20, 'pedro':18}\n",
    "print(d)\n",
    "print(d['Luciano'])\n",
    "d['maria'] = 25\n",
    "print(dic)\n",
    "d['felipe'] = 30\n",
    "print(dic)\n",
    "for k in d:\n",
    "    print(d[k])\n",
    "print(d.items())\n",
    "print(d.keys())\n",
    "print(d.values())\n",
    "print('maria' in d)\n",
    "print('python' in d)"
   ]
  }
 ],
 "metadata": {
  "kernelspec": {
   "display_name": "Python 3",
   "language": "python",
   "name": "python3"
  },
  "language_info": {
   "codemirror_mode": {
    "name": "ipython",
    "version": 3
   },
   "file_extension": ".py",
   "mimetype": "text/x-python",
   "name": "python",
   "nbconvert_exporter": "python",
   "pygments_lexer": "ipython3",
   "version": "3.6.1"
  }
 },
 "nbformat": 4,
 "nbformat_minor": 2
}
