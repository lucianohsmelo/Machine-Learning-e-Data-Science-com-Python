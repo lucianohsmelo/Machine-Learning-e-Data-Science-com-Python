{
 "cells": [
  {
   "cell_type": "code",
   "execution_count": 10,
   "metadata": {},
   "outputs": [
    {
     "name": "stdout",
     "output_type": "stream",
     "text": [
      "False\n",
      "True\n",
      "False\n",
      "False\n",
      "True\n"
     ]
    }
   ],
   "source": [
    "# == igualdade\n",
    "# > maior que\n",
    "# < menor que\n",
    "# != diferente\n",
    "# >= maior ou igual\n",
    "# <= menor ou igual\n",
    "\n",
    "n1 = 10\n",
    "n2 = 20\n",
    "print(n1 > n2)\n",
    "print(n1 < n2)\n",
    "print(n1 == n2)\n",
    "print(n1 >= n2)\n",
    "print(n1 <= n2)"
   ]
  },
  {
   "cell_type": "code",
   "execution_count": 12,
   "metadata": {},
   "outputs": [
    {
     "name": "stdout",
     "output_type": "stream",
     "text": [
      "True\n",
      "False\n"
     ]
    }
   ],
   "source": [
    "a1 = 10\n",
    "a2 = 10\n",
    "print(a1 == a2)\n",
    "print(a1 != a2)"
   ]
  },
  {
   "cell_type": "code",
   "execution_count": 17,
   "metadata": {},
   "outputs": [
    {
     "name": "stdout",
     "output_type": "stream",
     "text": [
      "False\n"
     ]
    }
   ],
   "source": [
    "media_aluno = 6.5\n",
    "media_aprovado = 7\n",
    "resultado = media_aluno >= media_aprovado\n",
    "print(resultado)"
   ]
  },
  {
   "cell_type": "code",
   "execution_count": 21,
   "metadata": {},
   "outputs": [
    {
     "name": "stdout",
     "output_type": "stream",
     "text": [
      "30\n",
      "-10\n",
      "200\n",
      "2.0\n",
      "2\n",
      "0\n"
     ]
    }
   ],
   "source": [
    "v1 = 10\n",
    "v2 = 20\n",
    "print(v1+v2)\n",
    "print(v1-v2)\n",
    "print(v1*v2)\n",
    "print(v2/v1)\n",
    "print(v2//v1) # divisão inteira\n",
    "print(v2%v1) # resto da divisão"
   ]
  },
  {
   "cell_type": "code",
   "execution_count": 24,
   "metadata": {},
   "outputs": [
    {
     "name": "stdout",
     "output_type": "stream",
     "text": [
      "1024\n"
     ]
    }
   ],
   "source": [
    "base = 2\n",
    "exp = 10\n",
    "resultado = base**exp\n",
    "print(resultado)"
   ]
  },
  {
   "cell_type": "code",
   "execution_count": 27,
   "metadata": {},
   "outputs": [
    {
     "name": "stdout",
     "output_type": "stream",
     "text": [
      "False\n"
     ]
    }
   ],
   "source": [
    "# not -> não (negação)\n",
    "# and -> e (conjunção)\n",
    "# or -> ou (disjunção)\n",
    "aprovado = True\n",
    "nao_aprovado = not aprovado\n",
    "print(nao_aprovado)"
   ]
  },
  {
   "cell_type": "code",
   "execution_count": 35,
   "metadata": {},
   "outputs": [
    {
     "name": "stdout",
     "output_type": "stream",
     "text": [
      "False\n",
      "False\n",
      "True\n",
      "True\n",
      "True\n"
     ]
    }
   ],
   "source": [
    "print(False and False)\n",
    "print(False or False)\n",
    "print(True or False)\n",
    "print(True or False)\n",
    "print(True or False and not True)"
   ]
  },
  {
   "cell_type": "code",
   "execution_count": 39,
   "metadata": {},
   "outputs": [
    {
     "data": {
      "text/plain": [
       "False"
      ]
     },
     "execution_count": 39,
     "metadata": {},
     "output_type": "execute_result"
    }
   ],
   "source": [
    "salario = 1000\n",
    "salario > 5000"
   ]
  }
 ],
 "metadata": {
  "kernelspec": {
   "display_name": "Python 3",
   "language": "python",
   "name": "python3"
  },
  "language_info": {
   "codemirror_mode": {
    "name": "ipython",
    "version": 3
   },
   "file_extension": ".py",
   "mimetype": "text/x-python",
   "name": "python",
   "nbconvert_exporter": "python",
   "pygments_lexer": "ipython3",
   "version": "3.6.1"
  }
 },
 "nbformat": 4,
 "nbformat_minor": 2
}
