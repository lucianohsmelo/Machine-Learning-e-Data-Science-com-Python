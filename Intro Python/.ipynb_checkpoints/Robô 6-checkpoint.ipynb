{
 "cells": [
  {
   "cell_type": "code",
   "execution_count": 1,
   "metadata": {
    "collapsed": true
   },
   "outputs": [],
   "source": [
    "class Point(object):\n",
    "    \n",
    "    def __init__(self, x, y):\n",
    "        self.x = x\n",
    "        self.y = y\n",
    "        \n",
    "    def __str__(self):\n",
    "        return '<%s, %s>' % (self.x, self.y)\n",
    "        \n",
    "class Reward(Point):\n",
    "    \n",
    "    def __init__(self, x, y, name):\n",
    "        super(Reward, self).__init__(x,y)\n",
    "        self.name = name\n",
    "        \n",
    "    def __str__(self):\n",
    "        return '<%s, %s>: %s' %(self.x, self.y, self.name)\n",
    "    \n",
    "    def __repr__(self):\n",
    "        return '<Reward> %s' % str(self)\n",
    "        \n",
    "class Robo2D(Point):\n",
    "           \n",
    "    def move_up(self):\n",
    "        if self.y < 10:\n",
    "            self.y = self.y + 1\n",
    "        else:\n",
    "            print('Movimento proibido')\n",
    "            \n",
    "    def move_down(self):\n",
    "        if self.y > 0:\n",
    "            self.y = self.y - 1\n",
    "        else:\n",
    "            print('Movimento proibido')\n",
    "            \n",
    "    def move_rigth(self):\n",
    "        if self.x > 10:\n",
    "            self.x = self.x + 1\n",
    "        else:\n",
    "            print('Movimento proibido')\n",
    "        \n",
    "    def move_left(self):\n",
    "        if self.x > 0:\n",
    "            self.x = self.x - 1\n",
    "        else:\n",
    "            print('Movimento proibido')"
   ]
  },
  {
   "cell_type": "code",
   "execution_count": 2,
   "metadata": {
    "collapsed": true
   },
   "outputs": [],
   "source": [
    "def check_reward(robot, rewards):\n",
    "    ok = False\n",
    "    for reward in rewards:\n",
    "        if reward.x == robot.x and reward.y == robot.y:\n",
    "            print(\"O robô achou a recompensa: %s\" % reward.name)\n",
    "            ok = True\n",
    "    return ok"
   ]
  },
  {
   "cell_type": "code",
   "execution_count": 3,
   "metadata": {
    "collapsed": true
   },
   "outputs": [],
   "source": [
    "import random"
   ]
  },
  {
   "cell_type": "code",
   "execution_count": 4,
   "metadata": {
    "collapsed": true
   },
   "outputs": [],
   "source": [
    "r1 = Reward(random.randint(0,10),random.randint(0,10),'Moeda')\n",
    "r2 = Reward(random.randint(0,10),random.randint(0,10),'Gasolina')\n",
    "r3 = Reward(random.randint(0,10),random.randint(0,10),'Arma')\n",
    "rewards = [r1, r2, r3]"
   ]
  },
  {
   "cell_type": "code",
   "execution_count": 5,
   "metadata": {
    "collapsed": true
   },
   "outputs": [],
   "source": [
    "robot = Robo2D(random.randint(0,10), random.randint(0,10))"
   ]
  },
  {
   "cell_type": "code",
   "execution_count": 6,
   "metadata": {},
   "outputs": [
    {
     "name": "stdout",
     "output_type": "stream",
     "text": [
      "Digite up, down, left ou rigth para movimento: up\n",
      "up\n",
      "<3, 7>\n",
      "Digite up, down, left ou rigth para movimento: down\n",
      "down\n",
      "<3, 7>\n",
      "Digite up, down, left ou rigth para movimento: up\n",
      "up\n",
      "<3, 8>\n",
      "Digite up, down, left ou rigth para movimento: up\n",
      "up\n",
      "<3, 9>\n",
      "Digite up, down, left ou rigth para movimento: up\n",
      "up\n",
      "<3, 10>\n",
      "Digite up, down, left ou rigth para movimento: up\n",
      "up\n",
      "Movimento proibido\n",
      "<3, 10>\n",
      "Digite up, down, left ou rigth para movimento: up\n",
      "up\n",
      "Movimento proibido\n",
      "<3, 10>\n",
      "Digite up, down, left ou rigth para movimento: up\n",
      "up\n",
      "Movimento proibido\n",
      "<3, 10>\n",
      "Digite up, down, left ou rigth para movimento: u\n",
      "u\n",
      "Movimento inválido\n",
      "Digite up, down, left ou rigth para movimento: up\n",
      "up\n",
      "Movimento proibido\n",
      "<3, 10>\n"
     ]
    }
   ],
   "source": [
    "for i in range(10):\n",
    "    moviment = input(\"Digite up, down, left ou rigth para movimento: \")\n",
    "    print(moviment)\n",
    "    if moviment == 'up':\n",
    "        robot.move_up()\n",
    "    elif moviment == 'down':\n",
    "        robot.move_down\n",
    "    elif moviment == 'left':\n",
    "        robot.move_left\n",
    "    elif moviment == 'right':\n",
    "        robot.move_rigth\n",
    "    else:\n",
    "        print('Movimento inválido')\n",
    "        continue\n",
    "    print(robot)\n",
    "    check_reward(robot, rewards)"
   ]
  },
  {
   "cell_type": "code",
   "execution_count": 20,
   "metadata": {},
   "outputs": [
    {
     "name": "stdout",
     "output_type": "stream",
     "text": [
      "<3, 9>\n",
      "Movimento proibido\n",
      "<3, 9>\n"
     ]
    }
   ],
   "source": [
    "print(robot)\n",
    "robot.move_up()\n",
    "robot.move_down()\n",
    "robot.move_rigth()\n",
    "print(robot)"
   ]
  }
 ],
 "metadata": {
  "kernelspec": {
   "display_name": "Python 3",
   "language": "python",
   "name": "python3"
  },
  "language_info": {
   "codemirror_mode": {
    "name": "ipython",
    "version": 3
   },
   "file_extension": ".py",
   "mimetype": "text/x-python",
   "name": "python",
   "nbconvert_exporter": "python",
   "pygments_lexer": "ipython3",
   "version": "3.6.1"
  }
 },
 "nbformat": 4,
 "nbformat_minor": 2
}
